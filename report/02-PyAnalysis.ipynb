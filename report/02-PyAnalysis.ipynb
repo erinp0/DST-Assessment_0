{
 "cells": [
  {
   "cell_type": "markdown",
   "id": "32571d38",
   "metadata": {},
   "source": [
    "I began by downloading the dataset from Kaggle and uploading it to Jupyter. The dataset is called 'weatherHistory.csv' and is found at [Leeds Weather Data](https://www.kaggle.com/datasets/muthuj7/weather-dataset?resource=download) . The code seemed to run best when I stored the csv file in the same folder as my Python notebook. Below is the set up for packages we will use later."
   ]
  },
  {
   "cell_type": "code",
   "execution_count": null,
   "id": "1a691b23",
   "metadata": {},
   "outputs": [],
   "source": [
    "import numpy as np #linear algebra\n",
    "import pandas as pd #data processing & reading csvs\n",
    "import matplotlib.pyplot as plt #plotting\n",
    "import seaborn as sns #statistical graphs"
   ]
  },
  {
   "cell_type": "markdown",
   "id": "532796ca",
   "metadata": {},
   "source": [
    "Here I have read the csv file and checked it has done so correctly by outputting the first 5 rows."
   ]
  },
  {
   "cell_type": "code",
   "execution_count": null,
   "id": "e3d62a42",
   "metadata": {},
   "outputs": [],
   "source": [
    "data = pd.read_csv('weatherHistory.csv')\n",
    "data.head()"
   ]
  },
  {
   "cell_type": "markdown",
   "id": "9995e73e",
   "metadata": {},
   "source": [
    "Let us do a quick summary of the data and see how many rows and columns there are. In addition the info() function gives us a concise dataframe summary."
   ]
  },
  {
   "cell_type": "code",
   "execution_count": null,
   "id": "1bd6adad",
   "metadata": {},
   "outputs": [],
   "source": [
    "data.shape"
   ]
  },
  {
   "cell_type": "code",
   "execution_count": null,
   "id": "093410a4",
   "metadata": {},
   "outputs": [],
   "source": [
    "data.info()"
   ]
  },
  {
   "cell_type": "markdown",
   "id": "fcc9d7ce",
   "metadata": {},
   "source": [
    "We can then check for missing data entries."
   ]
  },
  {
   "cell_type": "code",
   "execution_count": null,
   "id": "d9e9e4af",
   "metadata": {},
   "outputs": [],
   "source": [
    "data.isnull().sum()"
   ]
  },
  {
   "cell_type": "markdown",
   "id": "f7223d98",
   "metadata": {},
   "source": [
    "The heatmap below shows the pairwise correlation between all of the columns in the dataframe. The value of correlation falls in the interval [-1,1]. Strong correlation between two random variables or bivariate data does not necessarily imply a causal relationship."
   ]
  },
  {
   "cell_type": "code",
   "execution_count": null,
   "id": "d553d2bd",
   "metadata": {},
   "outputs": [],
   "source": [
    "plt.figure(figsize=(10,8))\n",
    "sns.heatmap(data= data.corr(), annot=True)\n",
    "plt.title(\"Pairwise correlation of all columns in the dataframe\")\n",
    "plt.savefig('plot6.png', dpi=300, bbox_inches='tight')\n",
    "plt.show()"
   ]
  },
  {
   "cell_type": "markdown",
   "id": "36e2802f",
   "metadata": {},
   "source": [
    "Before continuing with some more interesting analysis, we have to format the date into the correct format. The .to_datetime() function converts a scalar, array-like dataframe to a pandas datetime object. I had a couple issues with a Key Error in pandas but managed to remedy the mistake by clearing all outputs and re-running all cells."
   ]
  },
  {
   "cell_type": "code",
   "execution_count": null,
   "id": "cede60fc",
   "metadata": {},
   "outputs": [],
   "source": [
    "data['Formatted Date'] = pd.to_datetime(data['Formatted Date'], utc=True)\n",
    "data = data.set_index(\"Formatted Date\")\n",
    "data.head()"
   ]
  },
  {
   "cell_type": "code",
   "execution_count": null,
   "id": "c0314685",
   "metadata": {},
   "outputs": [],
   "source": [
    "df_column = ['Apparent Temperature (C)', 'Humidity']\n",
    "df_monthly_mean = data[df_column].resample(\"MS\").mean() #MS-Month Starting\n",
    "df_monthly_mean.head()"
   ]
  },
  {
   "cell_type": "code",
   "execution_count": null,
   "id": "733c0b8b",
   "metadata": {},
   "outputs": [],
   "source": [
    "sns.set_style(\"darkgrid\")\n",
    "sns.regplot(data=df_monthly_mean, x=\"Apparent Temperature (C)\", y=\"Humidity\", color=\"g\")\n",
    "plt.title(\"Relation between Apparent Temperature (C) and Humidity\")\n",
    "# save the figure\n",
    "plt.savefig('plot1.png', dpi=300, bbox_inches='tight')\n",
    "plt.show()"
   ]
  },
  {
   "cell_type": "markdown",
   "id": "de3e3b7f",
   "metadata": {},
   "source": [
    "We produce a time-series plot of the Apparent temperature and Humidity over time, from 2006 to 2016. As you can see, temperature behaves cyclicly, with the seasons, whereas humidity is more stable throughout the year."
   ]
  },
  {
   "cell_type": "code",
   "execution_count": null,
   "id": "eb14b852",
   "metadata": {},
   "outputs": [],
   "source": [
    "plt.figure(figsize=(14,6))\n",
    "sns.lineplot(data = df_monthly_mean)\n",
    "plt.xlabel('Year')\n",
    "plt.title(\"Variation of Apparent Temperature and Humidity with time\")\n",
    "plt.savefig('plot2.png', dpi=300, bbox_inches='tight')\n",
    "plt.show()"
   ]
  },
  {
   "cell_type": "markdown",
   "id": "8ea78b98",
   "metadata": {},
   "source": [
    "Below is a pair plot for correlation between Apparent temperature & Humidity. The plot is then saved."
   ]
  },
  {
   "cell_type": "code",
   "execution_count": null,
   "id": "0dee630c",
   "metadata": {},
   "outputs": [],
   "source": [
    "sns.set_style(\"darkgrid\")\n",
    "plt.figure(figsize=(4,4))\n",
    "plt.title(\"Correlation between Apparent temperature & Humidity\")\n",
    "sns.heatmap(data= df_monthly_mean.corr(), annot=True)\n",
    "plt.savefig('plot7.png', dpi=300, bbox_inches='tight')\n",
    "plt.show()"
   ]
  }
 ],
 "metadata": {
  "kernelspec": {
   "display_name": "Python 3 (ipykernel)",
   "language": "python",
   "name": "python3"
  },
  "language_info": {
   "codemirror_mode": {
    "name": "ipython",
    "version": 3
   },
   "file_extension": ".py",
   "mimetype": "text/x-python",
   "name": "python",
   "nbconvert_exporter": "python",
   "pygments_lexer": "ipython3",
   "version": "3.9.12"
  }
 },
 "nbformat": 4,
 "nbformat_minor": 5
}
